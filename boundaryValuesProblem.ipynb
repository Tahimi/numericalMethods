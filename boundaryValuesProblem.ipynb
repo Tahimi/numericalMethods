{
  "nbformat": 4,
  "nbformat_minor": 0,
  "metadata": {
    "colab": {
      "provenance": [],
      "include_colab_link": true
    },
    "kernelspec": {
      "name": "python3",
      "display_name": "Python 3"
    },
    "language_info": {
      "name": "python"
    }
  },
  "cells": [
    {
      "cell_type": "markdown",
      "metadata": {
        "id": "view-in-github",
        "colab_type": "text"
      },
      "source": [
        "<a href=\"https://colab.research.google.com/github/Tahimi/numericalMethods/blob/main/boundaryValuesProblem.ipynb\" target=\"_parent\"><img src=\"https://colab.research.google.com/assets/colab-badge.svg\" alt=\"Open In Colab\"/></a>"
      ]
    },
    {
      "cell_type": "code",
      "execution_count": null,
      "metadata": {
        "colab": {
          "base_uri": "https://localhost:8080/",
          "height": 279
        },
        "id": "fRpWEN1AhCkK",
        "outputId": "8688ead6-2d81-4d12-cb5a-9880f75ee3d4"
      },
      "outputs": [
        {
          "output_type": "display_data",
          "data": {
            "text/plain": [
              "<Figure size 432x288 with 1 Axes>"
            ],
            "image/png": "[encoded data removed]"
          },
          "metadata": {
            "needs_background": "light"
          }
        }
      ],
      "source": [
        "# the Shooting method\n",
        "import numpy as np\n",
        "from scipy.integrate import solve_ivp\n",
        "import matplotlib.pyplot as plt\n",
        "\n",
        "# Define the differential equation\n",
        "def f(x, y):\n",
        "    return y[1], -np.sin(y[0])\n",
        "\n",
        "# Define the boundary conditions\n",
        "y_a = 0.0\n",
        "y_b = 1.0\n",
        "\n",
        "x_span = [0, 1]\n",
        "\n",
        "# Define the shooting function\n",
        "def shoot(guess):\n",
        "    y0 = [y_a, guess]\n",
        "    sol = solve_ivp(f, x_span, y0, dense_output=True)\n",
        "    #print('guess = ', guess, ', sol.sol(1)[0] = ', sol.sol(1)[0])\n",
        "    return sol.sol(1)[0] - y_b # com sol.sol(1)[0] = betaGuess, retorna \n",
        "\n",
        "# Solve the shooting problem using the bisection method\n",
        "pInf = 0.1\n",
        "pSup = np.pi/2\n",
        "tol = 1e-6\n",
        "while pInf - pSup > tol:\n",
        "    pMedio = (pInf + pSup) / 2.\n",
        "    if shoot(pMedio) * shoot(pInf) < 0:\n",
        "        pSup = pMedio\n",
        "    else:\n",
        "        pInf = pMedio\n",
        "\n",
        "# Get the solution using the final guess\n",
        "sol = solve_ivp(f, x_span, [y_a, pInf], dense_output=True)\n",
        "y = sol.sol(np.linspace(0, 1, 100))\n",
        "\n",
        "# Plot the solution\n",
        "plt.plot(np.linspace(0, 1, 100), y[0], 'b-', label='y(x)')\n",
        "#plt.plot(np.linspace(0, 1, 100), y[1], 'r-', label=\"y'(x)\")\n",
        "plt.xlabel('x')\n",
        "plt.ylabel('y')\n",
        "plt.legend(loc='best')\n",
        "plt.show()"
      ]
    },
    {
      "cell_type": "code",
      "source": [
        "import numpy as np\n",
        "from scipy.integrate import solve_ivp\n",
        "y_a = 0.0\n",
        "pInf = 0\n",
        "def f(x, y):\n",
        "    return y[1], -np.sin(y[0])\n",
        "x_span = [0, 1]\n",
        "y0 = [y_a, pInf]\n",
        "sol = solve_ivp(f, x_span, y0, dense_output=True)\n",
        "print('betaInf = sol.sol(1)[0] = ', sol.sol(1)[0])\n",
        "\n",
        "y_b = 1.0\n",
        "print('diff = ', sol.sol(1)[0] - y_b)"
      ],
      "metadata": {
        "colab": {
          "base_uri": "https://localhost:8080/"
        },
        "id": "6rhesr6jAsQq",
        "outputId": "68bd167c-8856-47ba-8b42-895a9e87b47f"
      },
      "execution_count": null,
      "outputs": [
        {
          "output_type": "stream",
          "name": "stdout",
          "text": [
            "betaInf = sol.sol(1)[0] =  0.0\n",
            "diff =  -1.0\n"
          ]
        }
      ]
    },
    {
      "cell_type": "code",
      "source": [
        "import numpy as np\n",
        "from scipy.integrate import solve_ivp\n",
        "y_a = 0.0\n",
        "pSup = np.pi/2\n",
        "def f(x, y):\n",
        "    return y[1], -np.sin(y[0])\n",
        "x_span = [0, 1]\n",
        "y0 = [y_a, pSup]\n",
        "sol = solve_ivp(f, x_span, y0, dense_output=True)\n",
        "print('betaSup = sol.sol(1)[0] = ', sol.sol(1)[0])\n",
        "\n",
        "y_b = 1.0\n",
        "print('diff = ', sol.sol(1)[0] - y_b)"
      ],
      "metadata": {
        "colab": {
          "base_uri": "https://localhost:8080/"
        },
        "id": "_kFC7E_ZBiOi",
        "outputId": "0868886f-b8da-41ae-c0e1-7a4c0170e44b"
      },
      "execution_count": null,
      "outputs": [
        {
          "output_type": "stream",
          "name": "stdout",
          "text": [
            "betaSup = sol.sol(1)[0] =  1.3457891155053074\n",
            "diff =  0.34578911550530744\n"
          ]
        }
      ]
    },
    {
      "cell_type": "code",
      "source": [
        "import numpy as np\n",
        "from scipy.integrate import solve_ivp\n",
        "y_a = 0.0\n",
        "pMedio = (0 + np.pi/2) / 2.\n",
        "def f(x, y):\n",
        "    return y[1], -np.sin(y[0])\n",
        "x_span = [0, 1]\n",
        "y0 = [y_a, pMedio]\n",
        "sol = solve_ivp(f, x_span, y0, dense_output=True)\n",
        "print('betaM = sol.sol(1)[0] = ', sol.sol(1)[0])\n",
        "\n",
        "y_b = 1.0\n",
        "print('diff = ', sol.sol(1)[0] - y_b)"
      ],
      "metadata": {
        "colab": {
          "base_uri": "https://localhost:8080/"
        },
        "id": "bLev53xRCKH7",
        "outputId": "7e54089e-f132-4c2e-d25c-2223639371af"
      },
      "execution_count": null,
      "outputs": [
        {
          "output_type": "stream",
          "name": "stdout",
          "text": [
            "betaM = sol.sol(1)[0] =  0.6639567601105767\n",
            "diff =  -0.3360432398894233\n"
          ]
        }
      ]
    },
    {
      "cell_type": "code",
      "source": [
        "# a nonlinear problem, (found in the context of light propagation)\n",
        "# ODE: y'' + (1./x) * y' - y + 2*y**3 = 0, 0 < x < infinity\n",
        "# BCs: y'(0) = 0 and y(infinity) = 0\n",
        "# solving the problem using the Shooting method,\n",
        "# obs. infinity = 10, (this is big anough)\n",
        "import numpy as np\n",
        "from scipy.integrate import solve_ivp\n",
        "import matplotlib.pyplot as plt\n",
        "\n",
        "# Define the differential equation\n",
        "def f(x, y):\n",
        "    return y[1], -(1./x) * y[1] + y[0] - 2*y[0]**3\n",
        "\n",
        "# Define the boundary conditions\n",
        "yl_a = 0.0\n",
        "y_b = 0.0\n",
        "\n",
        "x_span = [1e-6, 10] # to avoid division by 0 the spatial interval started at 10−6\n",
        "\n",
        "# Define the shooting function\n",
        "def shoot(guess):\n",
        "    y0 = [guess, yl_a]\n",
        "    sol = solve_ivp(f, x_span, y0, dense_output=True)\n",
        "    #print('guess = ', guess, ', sol.sol(1)[0] = ', sol.sol(1)[0])\n",
        "    return sol.sol(1)[0] - y_b\n",
        "\n",
        "# Solve the shooting problem using the bisection method\n",
        "a = 1.5\n",
        "b = 1.6\n",
        "tol = 1e-9\n",
        "while b - a > tol:\n",
        "    c = (a + b) / 2.\n",
        "    if shoot(c) * shoot(a) < 0:\n",
        "        b = c\n",
        "    else:\n",
        "        a = c\n",
        "\n",
        "# Get the solution using the final guess\n",
        "sol = solve_ivp(f, x_span, [(a + b) / 2., yl_a], dense_output=True)\n",
        "y = sol.sol(np.linspace(x_span[0], x_span[1], 100))\n",
        "\n",
        "# Plot the solution\n",
        "plt.plot(np.linspace(x_span[0], x_span[1], 100), y[0], 'b-', label='y(x)')\n",
        "plt.xlabel('x')\n",
        "plt.ylabel('y')\n",
        "plt.legend(loc='best')\n",
        "plt.show()"
      ],
      "metadata": {
        "colab": {
          "base_uri": "https://localhost:8080/",
          "height": 279
        },
        "id": "6FZappy-k0ic",
        "outputId": "9d04904d-ef5c-4d4f-9454-a5babd2bd4d5"
      },
      "execution_count": null,
      "outputs": [
        {
          "output_type": "display_data",
          "data": {
            "text/plain": [
              "<Figure size 432x288 with 1 Axes>"
            ],
            "image/png": "[encoded data removed]"
          },
          "metadata": {
            "needs_background": "light"
          }
        }
      ]
    },
    {
      "cell_type": "code",
      "source": [
        "# Finite diference method\n",
        "# ODE: y''(x) + 4y(x) = 0, 0 < x < 1\n",
        "# BCs: y(0) = 0, y(1) = 1\n",
        "# centered difference formula: y''(x) ≈ [y(x+h) - 2y(x) + y(x-h)]/h^2\n",
        "# [y(x+h) - 2y(x) + y(x-h)]/h^2 + 4y(x) = 0\n",
        "# 1*y(x+h) + (-2+4h^2)*y(x) + 1*y(x-h) = 0, for 1 ≤ i ≤ n-2\n",
        "# 1*y(x_(i+1)) + (-2+4h^2)*y(xi) + 1*y(x_(i-1)) = 0, for 1 ≤ i ≤ n-2\n",
        "# 1*y_(i+1) + (-2+4h^2)*y_i + 1*y_(i-1) = 0, for 1 ≤ i ≤ n-2, i=1,2,3\n",
        "# incógnitas y_i, i=1,2,3\n",
        "\n",
        "import numpy as np\n",
        "import matplotlib.pyplot as plt\n",
        "\n",
        "# Define the number of points and the spacing\n",
        "n = 5\n",
        "h = 1/(n-1) # h = 1/4 = 0.25\n",
        "\n",
        "# Define the coefficient matrix and the right-hand side vector\n",
        "A = np.zeros((n, n)) # A.shape = (5,5)\n",
        "rhs = np.zeros(n) # rhs.shape = (5,)\n",
        "for i in range(1,n-1): # i = 1,2,3\n",
        "    A[i,i] = -2+4*h**2 # A[1,1] = A[2,2] = A[3,3] = -2+4*0.25**2\n",
        "    rhs[i] = 0. # rhs[1] = rhs[2] = rhs[3] = 0.\n",
        "    A[i,i-1] = 1.\n",
        "    A[i,i+1] = 1.\n",
        "\n",
        "# Define the boundary conditions\n",
        "y0 = 0\n",
        "yN = 1\n",
        "\n",
        "# insert the BCs into A and b\n",
        "# left BC\n",
        "A[0,0] = 1\n",
        "rhs[0] = y0\n",
        "# right BC\n",
        "A[-1,-1] = 1\n",
        "rhs[-1] = yN\n",
        "\n",
        "# Solve the system of equations\n",
        "y = np.linalg.solve(A, rhs)\n",
        "\n",
        "# Plot the solution\n",
        "x = np.linspace(0, 1, n)\n",
        "plt.plot(x, y)\n",
        "plt.xlabel('x')\n",
        "plt.ylabel('y')\n",
        "plt.show()\n",
        "\n",
        "# Print the matrix\n",
        "print(A)\n",
        "print(rhs)"
      ],
      "metadata": {
        "colab": {
          "base_uri": "https://localhost:8080/",
          "height": 383
        },
        "id": "xgga7hO5sjdp",
        "outputId": "d5d424cf-8350-435d-b845-083ecccecc1d"
      },
      "execution_count": null,
      "outputs": [
        {
          "output_type": "display_data",
          "data": {
            "text/plain": [
              "<Figure size 432x288 with 1 Axes>"
            ],
            "image/png": "[encoded data removed]"
          },
          "metadata": {
            "needs_background": "light"
          }
        },
        {
          "output_type": "stream",
          "name": "stdout",
          "text": [
            "[[ 1.    0.    0.    0.    0.  ]\n",
            " [ 1.   -1.75  1.    0.    0.  ]\n",
            " [ 0.    1.   -1.75  1.    0.  ]\n",
            " [ 0.    0.    1.   -1.75  1.  ]\n",
            " [ 0.    0.    0.    0.    1.  ]]\n",
            "[0. 0. 0. 0. 1.]\n"
          ]
        }
      ]
    },
    {
      "cell_type": "code",
      "source": [
        "print(-2*np.ones(5)+ 4*0.25**2)"
      ],
      "metadata": {
        "colab": {
          "base_uri": "https://localhost:8080/"
        },
        "id": "adYnkU49S6uG",
        "outputId": "9b293222-8c0b-4980-c19e-cb520bedb528"
      },
      "execution_count": null,
      "outputs": [
        {
          "output_type": "stream",
          "name": "stdout",
          "text": [
            "[-1.75 -1.75 -1.75 -1.75 -1.75]\n"
          ]
        }
      ]
    },
    {
      "cell_type": "code",
      "source": [
        "'''\n",
        "the finite difference method is implemented using a point-wise approach, where\n",
        "the solution y is updated one point at a time using the centered difference\n",
        "formula for y''. Therefore, there is no need to define a matrix or RHS vector\n",
        "explicitly as in the case of a linear system of equations. Instead, we can\n",
        "update the solution y directly using the finite difference approximation.\n",
        "'''\n",
        "import numpy as np\n",
        "import matplotlib.pyplot as plt\n",
        "from scipy.sparse import diags\n",
        "import scipy.sparse.linalg as spla\n",
        "\n",
        "# Define the number of points and the spacing\n",
        "n = 5\n",
        "h = 1/(n-1) # h = 1/999 = 0.001001001...\n",
        "\n",
        "# Define the coefficient matrix and the right-hand side vector\n",
        "diagL1 = np.ones(n-1); diagL1[-1] = 0\n",
        "diagP = -2*np.ones(n) + 4*h**2; diagP[0] = diagP[-1] = 1\n",
        "diagU1 = np.ones(n-1); diagU1[0] = 0\n",
        "\n",
        "# Construct the coefficient matrix using diags\n",
        "data = [diagL1, diagP, diagU1]\n",
        "diagonals = [-1, 0, 1]\n",
        "A = diags(data, diagonals, shape=(n, n), format='csr')\n",
        "\n",
        "rhs = np.zeros(n)\n",
        "rhs[-1] = 1\n",
        "\n",
        "# Solve the system of equations\n",
        "y = spla.spsolve(A, rhs)\n",
        "\n",
        "# Plot the solution\n",
        "x = np.linspace(0, 1, n)\n",
        "plt.plot(x, y)\n",
        "plt.xlabel('x')\n",
        "plt.ylabel('y')\n",
        "plt.show()\n",
        "\n",
        "# Print the matrix\n",
        "print(A)\n",
        "print(A.todense())\n",
        "print(rhs)"
      ],
      "metadata": {
        "colab": {
          "base_uri": "https://localhost:8080/",
          "height": 574
        },
        "id": "H0xiWEn_69w7",
        "outputId": "42000660-06ba-4a20-e299-5eb92d9ddb33"
      },
      "execution_count": null,
      "outputs": [
        {
          "output_type": "display_data",
          "data": {
            "text/plain": [
              "<Figure size 432x288 with 1 Axes>"
            ],
            "image/png": "[encoded data removed]"
          },
          "metadata": {
            "needs_background": "light"
          }
        },
        {
          "output_type": "stream",
          "name": "stdout",
          "text": [
            "  (0, 0)\t1.0\n",
            "  (1, 0)\t1.0\n",
            "  (1, 1)\t-1.75\n",
            "  (1, 2)\t1.0\n",
            "  (2, 1)\t1.0\n",
            "  (2, 2)\t-1.75\n",
            "  (2, 3)\t1.0\n",
            "  (3, 2)\t1.0\n",
            "  (3, 3)\t-1.75\n",
            "  (3, 4)\t1.0\n",
            "  (4, 4)\t1.0\n",
            "[[ 1.    0.    0.    0.    0.  ]\n",
            " [ 1.   -1.75  1.    0.    0.  ]\n",
            " [ 0.    1.   -1.75  1.    0.  ]\n",
            " [ 0.    0.    1.   -1.75  1.  ]\n",
            " [ 0.    0.    0.    0.    1.  ]]\n",
            "[0. 0. 0. 0. 1.]\n"
          ]
        }
      ]
    },
    {
      "cell_type": "code",
      "source": [
        "# the code to generate and print the matrix\n",
        "import numpy as np\n",
        "\n",
        "# Define the number of points and the spacing\n",
        "n = 5\n",
        "h = 1/(n-1)\n",
        "\n",
        "# Define the coefficient matrix\n",
        "A = np.zeros((n, n))\n",
        "for i in range(1,n-1):\n",
        "    A[i,i] = -2+4*h**2\n",
        "    A[i,i-1] = 1\n",
        "    A[i,i+1] = 1\n",
        "\n",
        "# insert the BCs into A\n",
        "# left BC\n",
        "A[0,0] = 1\n",
        "# right BC\n",
        "A[-1,-1] = 1\n",
        "\n",
        "# Print the matrix\n",
        "print(A)"
      ],
      "metadata": {
        "colab": {
          "base_uri": "https://localhost:8080/"
        },
        "id": "kWzyP7JJvQ_z",
        "outputId": "7749b091-0a25-43db-c94b-68860c161ffd"
      },
      "execution_count": null,
      "outputs": [
        {
          "output_type": "stream",
          "name": "stdout",
          "text": [
            "[[ 1.    0.    0.    0.    0.  ]\n",
            " [ 1.   -1.75  1.    0.    0.  ]\n",
            " [ 0.    1.   -1.75  1.    0.  ]\n",
            " [ 0.    0.    1.   -1.75  1.  ]\n",
            " [ 0.    0.    0.    0.    1.  ]]\n"
          ]
        }
      ]
    },
    {
      "cell_type": "code",
      "source": [
        "# the code to generate and print the RHS vector, b\n",
        "import numpy as np\n",
        "\n",
        "# Define the number of points and the spacing\n",
        "n = 5\n",
        "h = 1/(n-1)\n",
        "\n",
        "# Define the coefficient matrix\n",
        "b = np.zeros((n))\n",
        "for i in range(1,n-1):\n",
        "    b[i] = 0.\n",
        "\n",
        "# Define the boundary conditions\n",
        "y0 = 0\n",
        "yN = 1\n",
        "\n",
        "# insert the BCs into b\n",
        "# left BC\n",
        "b[0] = y0\n",
        "# right BC\n",
        "b[-1] = yN\n",
        "\n",
        "# Print the matrix\n",
        "print(b)"
      ],
      "metadata": {
        "colab": {
          "base_uri": "https://localhost:8080/"
        },
        "id": "uHJvYusa2vMD",
        "outputId": "03ed0ee8-2436-4ef2-a67e-3b82e355c452"
      },
      "execution_count": null,
      "outputs": [
        {
          "output_type": "stream",
          "name": "stdout",
          "text": [
            "[0. 0. 0. 0. 1.]\n"
          ]
        }
      ]
    },
    {
      "cell_type": "code",
      "source": [
        "'''\n",
        "For large matrices, it is recommended to use a specialized algorithm\n",
        "for solving tridiagonal linear systems, such as the Thomas algorithm\n",
        "(also known as the tridiagonal matrix algorithm). The Thomas algorithm\n",
        "is an efficient method that takes advantage of the special structure\n",
        "of tridiagonal matrices, and it has a computational cost that\n",
        "is proportional to the number of unknowns in the system.\n",
        "The Thomas algorithm works by first reducing the tridiagonal matrix\n",
        "to upper triangular form, and then solving the resulting system\n",
        "of equations using backward substitution.\n",
        "First, the tridiagonal matrix that we are solving has a special\n",
        "form where the diagonal elements are all equal to -2+4h^2,\n",
        "and the off-diagonal elements are all equal to 1. This means that\n",
        "we can simplify the Thomas algorithm by using the known tridiagonal\n",
        "LU decomposition of the matrix, rather than computing the factors\n",
        "explicitly.\n",
        "'''\n",
        "import numpy as np\n",
        "import matplotlib.pyplot as plt\n",
        "\n",
        "# Define the number of points and the spacing\n",
        "n = 100000\n",
        "h = 1/(n-1)\n",
        "\n",
        "# Define the coefficient matrix and the right-hand side vector\n",
        "diag = np.full(n, -2+4*h**2)\n",
        "offdiag = np.full(n-1, 1)\n",
        "b = np.zeros(n)\n",
        "b[0] = 0\n",
        "b[-1] = 1\n",
        "\n",
        "# Define the boundary conditions\n",
        "y0 = 0\n",
        "yN = 1\n",
        "\n",
        "# Insert the boundary conditions into the right-hand side vector\n",
        "b[0] = y0*h**2\n",
        "b[-1] = yN*h**2\n",
        "\n",
        "# Solve the system of equations using the tridiagonal LU decomposition\n",
        "L = np.zeros((n, n))\n",
        "U = np.zeros((n, n))\n",
        "L[0, 0] = 1\n",
        "U[0, 0] = diag[0]\n",
        "for i in range(1, n):\n",
        "    L[i, i-1] = offdiag[i-1]/U[i-1, i-1]\n",
        "    U[i, i] = diag[i] - L[i, i-1]*offdiag[i-1]\n",
        "    L[i, i] = 1\n",
        "    if i < n-1:\n",
        "        U[i, i+1] = offdiag[i]\n",
        "\n",
        "y = np.zeros(n)\n",
        "y[0] = y0\n",
        "y[-1] = yN\n",
        "for i in range(1, n-1):\n",
        "    b[i] = b[i] - L[i, i-1]*b[i-1]\n",
        "for i in range(n-2, 0, -1):\n",
        "    y[i] = (b[i] - offdiag[i]*y[i+1])/U[i, i]\n",
        "    \n",
        "# Plot the solution\n",
        "x = np.linspace(0, 1, n)\n",
        "plt.plot(x, y)\n",
        "plt.xlabel('x')\n",
        "plt.ylabel('y')\n",
        "plt.show()"
      ],
      "metadata": {
        "colab": {
          "base_uri": "https://localhost:8080/",
          "height": 279
        },
        "id": "Ua721jf44pp-",
        "outputId": "b55e767e-28e0-4966-bd22-05d8c30d5512"
      },
      "execution_count": null,
      "outputs": [
        {
          "output_type": "display_data",
          "data": {
            "text/plain": [
              "<Figure size 432x288 with 1 Axes>"
            ],
            "image/png": "[encoded data removed]"
          },
          "metadata": {
            "needs_background": "light"
          }
        }
      ]
    },
    {
      "cell_type": "code",
      "source": [
        "import scipy.sparse as sp\n",
        "\n",
        "# Define the coefficient matrix and the right-hand side vector\n",
        "a = np.ones(n-2)\n",
        "b = -2*np.ones(n-1) + 4*h**2\n",
        "c = np.ones(n-2)\n",
        "\n",
        "# Construct the coefficient matrix using diags\n",
        "data = [a, b, c]\n",
        "diagonals = [-1, 0, 1]\n",
        "A = sp.diags(data, diagonals, shape=(n-1, n-1), format='csr')\n",
        "\n",
        "# Convert the sparse matrix to a dense matrix and pretty print it\n",
        "print(A.todense())"
      ],
      "metadata": {
        "colab": {
          "base_uri": "https://localhost:8080/"
        },
        "id": "O0t7f8Ps-7qN",
        "outputId": "5f61b302-5ab0-47f9-b710-d06f68287cb6"
      },
      "execution_count": null,
      "outputs": [
        {
          "output_type": "stream",
          "name": "stdout",
          "text": [
            "[[-1.75  1.    0.    0.  ]\n",
            " [ 1.   -1.75  1.    0.  ]\n",
            " [ 0.    1.   -1.75  1.  ]\n",
            " [ 0.    0.    1.   -1.75]]\n"
          ]
        }
      ]
    }
  ]
}
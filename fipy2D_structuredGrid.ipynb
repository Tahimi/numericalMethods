{
  "nbformat": 4,
  "nbformat_minor": 0,
  "metadata": {
    "colab": {
      "provenance": [],
      "include_colab_link": true
    },
    "kernelspec": {
      "name": "python3",
      "display_name": "Python 3"
    },
    "language_info": {
      "name": "python"
    }
  },
  "cells": [
    {
      "cell_type": "markdown",
      "metadata": {
        "id": "view-in-github",
        "colab_type": "text"
      },
      "source": [
        "<a href=\"https://colab.research.google.com/github/Tahimi/numericalMethods/blob/main/fipy2D_structuredGrid.ipynb\" target=\"_parent\"><img src=\"https://colab.research.google.com/assets/colab-badge.svg\" alt=\"Open In Colab\"/></a>"
      ]
    },
    {
      "cell_type": "markdown",
      "source": [
        "https://www.ctcms.nist.gov/fipy/examples/diffusion/generated/examples.diffusion.mesh20x20.html"
      ],
      "metadata": {
        "id": "uqgAKUzZQiAx"
      }
    },
    {
      "cell_type": "code",
      "execution_count": null,
      "metadata": {
        "id": "YF7ex_Ln6aZQ",
        "colab": {
          "base_uri": "https://localhost:8080/",
          "height": 435
        },
        "outputId": "45dcf252-f8a2-40a6-fa18-a406e0bff55f"
      },
      "outputs": [
        {
          "output_type": "display_data",
          "data": {
            "text/plain": [
              "<Figure size 400x480 with 2 Axes>"
            ],
            "image/png": "[encoded data removed]"
          },
          "metadata": {}
        }
      ],
      "source": [
        "from fipy import CellVariable,\\\n",
        "                 Grid2D,\\\n",
        "                 Viewer,\\\n",
        "                 TransientTerm,\\\n",
        "                 DiffusionTerm\n",
        "from fipy.tools import numerix\n",
        "\n",
        "nx = 2\n",
        "ny = 3\n",
        "dx = 1.\n",
        "dy = dx\n",
        "Lx = dx * nx\n",
        "Ly = dy * ny\n",
        "mesh = Grid2D(dx=dx, dy=dy, nx=nx, ny=ny)\n",
        "\n",
        "phi = CellVariable(name = \"solution variable\",\n",
        "                   mesh = mesh,\n",
        "                   value = 0.)\n",
        "\n",
        "D = 1.\n",
        "eq = TransientTerm() == DiffusionTerm(coeff=D)\n",
        "\n",
        "valueTopLeft = 0\n",
        "valueBottomRight = 1\n",
        "\n",
        "X, Y = mesh.faceCenters\n",
        "facesTopLeft = ((mesh.facesLeft & (Y > Ly / 2)) | (mesh.facesTop & (X < Lx / 2)))\n",
        "facesBottomRight = ((mesh.facesRight & (Y < Ly / 2)) | (mesh.facesBottom & (X > Lx / 2)))\n",
        "\n",
        "phi.constrain(valueTopLeft, facesTopLeft)\n",
        "phi.constrain(valueBottomRight, facesBottomRight)\n",
        "\n",
        "timeStepDuration = 10 * 0.9 * dx**2 / (2 * D)\n",
        "steps = 1\n",
        "from builtins import range\n",
        "\n",
        "viewer = Viewer(vars=phi, datamin=0., datamax=1.)\n",
        "for step in range(steps):\n",
        "  eq.solve(var=phi,\n",
        "            dt=timeStepDuration)\n",
        "viewer.plot()"
      ]
    }
  ]
}
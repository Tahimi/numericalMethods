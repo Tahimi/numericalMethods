{
  "nbformat": 4,
  "nbformat_minor": 0,
  "metadata": {
    "colab": {
      "provenance": [],
      "include_colab_link": true
    },
    "kernelspec": {
      "name": "python3",
      "display_name": "Python 3"
    },
    "language_info": {
      "name": "python"
    }
  },
  "cells": [
    {
      "cell_type": "markdown",
      "metadata": {
        "id": "view-in-github",
        "colab_type": "text"
      },
      "source": [
        "<a href=\"https://colab.research.google.com/github/Tahimi/numericalMethods/blob/main/solvingSystemOfODEs.ipynb\" target=\"_parent\"><img src=\"https://colab.research.google.com/assets/colab-badge.svg\" alt=\"Open In Colab\"/></a>"
      ]
    },
    {
      "cell_type": "code",
      "source": [
        "import inspect\n",
        "def rungeKuttaAlgForOneODE(problem):\n",
        "  # naming this solver\n",
        "  algName = inspect.stack()[0][3]\n",
        "\n",
        "  # Reading the problem's data\n",
        "  probName = problem['name']\n",
        "  f = problem['f']\n",
        "  x0 = problem['x0']\n",
        "  xn = problem['xn']\n",
        "  y0 = problem['y0']\n",
        "  #fa = problem['fa']\n",
        "  h = problem['h']\n",
        "  #yip1 = problem['yip1']\n",
        "\n",
        "  # Variables Initialization\n",
        "  i = 0\n",
        "  x = x0\n",
        "  y = y0\n",
        "  #print('i = ', i, ', x = %.2f' % x, ', y = %.4f' % y)\n",
        "\n",
        "  # Variables Saving\n",
        "  X = [x]\n",
        "  Y = [y]\n",
        "\n",
        "  n = int((xn - x0)/h) # (1-0)/0.2=5\n",
        "  for i in range(1, n + 1): # i=1,2,3,4,5\n",
        "    # Variables Updating\n",
        "    k1 = h*f(x, y)\n",
        "    k2 = h*f(x + h/2., y + k1/2.)\n",
        "    k3 = h*f(x + h/2., y + k2/2.)\n",
        "    k4 = h*f(x + h, y + k3)\n",
        "    y += (k1 + 2*k2 + 2*k3 + k4)/6.\n",
        "    x += h\n",
        "    #print('i = ', i, ', x = %.2f' % x, ', y = %.4f' % y)\n",
        "\n",
        "    # Variables Saving\n",
        "    X += [x]\n",
        "    Y += [y]\n",
        "\n",
        "  print(algName, 'is done solving', probName)\n",
        "  return X, Y"
      ],
      "metadata": {
        "id": "giXUfo1OxJXD"
      },
      "execution_count": null,
      "outputs": []
    },
    {
      "cell_type": "code",
      "source": [
        "import math\n",
        "\n",
        "problem3 = {'name':'problem3',\n",
        "            'f': lambda x, y: -20*y + 20*x**2 + 2*x,\n",
        "            'x0': 0,\n",
        "            'xn': 1,\n",
        "            'y0': 1,\n",
        "            'fa': lambda x: math.exp(-20*x) + x**2,\n",
        "            'h': 0.1,\n",
        "            'yip1': lambda x, y, h: (y + h*(20*(x + h)**2 + 2*(x + h)))/(1 + 20*h)}\n",
        "\n",
        "problem1 = {'name':'problem1',\n",
        "            'f': lambda x, y: x + y,\n",
        "            'x0': 0,\n",
        "            'xn': 1,\n",
        "            'y0': 0,\n",
        "            'fa': lambda x: -x + math.exp(x) - 1,\n",
        "            'h': 0.1,\n",
        "            'yip1': lambda x, y, h: (y + h*(x + h))/(1 - h)}"
      ],
      "metadata": {
        "id": "SoP2sEuryqYp"
      },
      "execution_count": null,
      "outputs": []
    },
    {
      "cell_type": "code",
      "source": [
        "problem = problem1\n",
        "X, Y = rungeKuttaAlgForOneODE(problem)"
      ],
      "metadata": {
        "colab": {
          "base_uri": "https://localhost:8080/"
        },
        "id": "4BmUi4E2y2Ia",
        "outputId": "134940f8-4085-47ea-f65c-7377425ca855"
      },
      "execution_count": null,
      "outputs": [
        {
          "output_type": "stream",
          "name": "stdout",
          "text": [
            "i =  0 , x = 0.00 , y = 0.0000\n",
            "i =  1 , x = 0.10 , y = 0.0052\n",
            "i =  2 , x = 0.20 , y = 0.0214\n",
            "i =  3 , x = 0.30 , y = 0.0499\n",
            "i =  4 , x = 0.40 , y = 0.0918\n",
            "i =  5 , x = 0.50 , y = 0.1487\n",
            "i =  6 , x = 0.60 , y = 0.2221\n",
            "i =  7 , x = 0.70 , y = 0.3138\n",
            "i =  8 , x = 0.80 , y = 0.4255\n",
            "i =  9 , x = 0.90 , y = 0.5596\n",
            "i =  10 , x = 1.00 , y = 0.7183\n",
            "rungeKuttaAlgForOneODE is done solving problem1\n"
          ]
        }
      ]
    },
    {
      "cell_type": "code",
      "source": [
        "Ya = [problem['fa'](float(x)) for x in X]"
      ],
      "metadata": {
        "id": "FLgVnbI0y_NQ"
      },
      "execution_count": null,
      "outputs": []
    },
    {
      "cell_type": "code",
      "source": [
        "import matplotlib.pyplot as plt\n",
        "\n",
        "plt.plot(X, Y, marker='s')\n",
        "plt.plot(X, Ya)\n",
        "plt.show()"
      ],
      "metadata": {
        "colab": {
          "base_uri": "https://localhost:8080/",
          "height": 265
        },
        "id": "z_JachpfzPVB",
        "outputId": "957be098-e0bd-43ce-e512-a193c3697dc8"
      },
      "execution_count": null,
      "outputs": [
        {
          "output_type": "display_data",
          "data": {
            "text/plain": [
              "<Figure size 432x288 with 1 Axes>"
            ],
            "image/png": "[encoded data removed]"
          },
          "metadata": {
            "needs_background": "light"
          }
        }
      ]
    },
    {
      "cell_type": "code",
      "source": [
        "import inspect\n",
        "def rungeKuttaAlgForSysOfODEs(problem):\n",
        "  # naming this solver\n",
        "  algName = inspect.stack()[0][3]\n",
        "\n",
        "  # Reading the problem's data\n",
        "  probName = problem['name']\n",
        "  f = problem['f'] # [f1, f2, ...]\n",
        "  x0 = problem['x0']\n",
        "  xn = problem['xn']\n",
        "  y0 = np.array(problem['y0'], copy = True) # [y10, y20, ...]\n",
        "  #fa = problem['fa']\n",
        "  h = problem['h']\n",
        "  #yip1 = problem['yip1']\n",
        "\n",
        "  # Variables Initialization\n",
        "  i = 0\n",
        "  x = x0 # 0\n",
        "  y = y0 # [3, -2.5]\n",
        "  print('i = ', i, ', x = %.2f' % x, ', y = ', y)\n",
        "\n",
        "  # Variables Saving\n",
        "  X = [x] # [0]\n",
        "  Y = [[item] for item in y] # [[3], [-2.5]]\n",
        "\n",
        "  n = int((xn - x0)/h)\n",
        "  for i in range(1, n + 1): # i=1,2,...,5\n",
        "    # Variables Updating\n",
        "    k1 = h*f(x, y) # 0.2*f(0, [3, -2.5]) = 0.2*[-2.5, - 2*(-2.5) - 0.75*3] = [-0.5 ,  0.55]\n",
        "    k2 = h*f(x + h/2., y + k1/2.)\n",
        "    k3 = h*f(x + h/2., y + k2/2.)\n",
        "    k4 = h*f(x + h, y + k3)\n",
        "    y += (k1 + 2*k2 + 2*k3 + k4)/6.\n",
        "    x += h\n",
        "    print('i = ', i, ', x = %.2f' % x, ', y = ', y)\n",
        "\n",
        "    # Variables Saving\n",
        "    X += [x]\n",
        "    for i in range(len(y)):\n",
        "      Y[i].append(y[i]) # [[3, novo valor do y1], [-2.5, novo valor do y2]]\n",
        "\n",
        "  print(algName, 'is done solving', probName)\n",
        "  return X, Y # X = [...] e Y = [[...], [...]]"
      ],
      "metadata": {
        "id": "Js5RxCan1j-o"
      },
      "execution_count": null,
      "outputs": []
    },
    {
      "cell_type": "code",
      "execution_count": null,
      "metadata": {
        "id": "JRcLdX1nwyRe"
      },
      "outputs": [],
      "source": [
        "import numpy as np\n",
        "problem10 = {'name':'problem1',\n",
        "            'f': lambda x, y: np.array([y[1], - 2*y[1] - 0.75*y[0]]), # vetor das declividades f1 e f2\n",
        "            'x0': 0,\n",
        "            'xn': 1,\n",
        "            'y0': [3, -2.5], # vetor dos valores iniciais y10 e y20\n",
        "            'h': 0.2}"
      ]
    },
    {
      "cell_type": "code",
      "source": [
        "problem = problem10\n",
        "X, Y = rungeKuttaAlgForSysOfODEs(problem)"
      ],
      "metadata": {
        "colab": {
          "base_uri": "https://localhost:8080/"
        },
        "id": "VhNjnGG06hnP",
        "outputId": "2694ea31-73bb-42c8-e6fe-824a480197fd"
      },
      "execution_count": null,
      "outputs": [
        {
          "output_type": "stream",
          "name": "stdout",
          "text": [
            "i =  0 , x = 0.00 , y =  [ 3.  -2.5]\n",
            "i =  1 , x = 0.20 , y =  [ 2.5505125  -2.01609375]\n",
            "i =  2 , x = 0.40 , y =  [ 2.186302  -1.6419912]\n",
            "i =  3 , x = 0.60 , y =  [ 1.88823825 -1.35072053]\n",
            "i =  4 , x = 0.80 , y =  [ 1.64186614 -1.12215864]\n",
            "i =  5 , x = 1.00 , y =  [ 1.43622106 -0.94126973]\n",
            "rungeKuttaAlgForSysOfODEs is done solving problem1\n"
          ]
        }
      ]
    },
    {
      "cell_type": "code",
      "source": [
        "print(Y)"
      ],
      "metadata": {
        "colab": {
          "base_uri": "https://localhost:8080/"
        },
        "id": "jNY4VHGF_HM0",
        "outputId": "3f3d8e27-32f2-4973-8811-6ca6f5708755"
      },
      "execution_count": null,
      "outputs": [
        {
          "output_type": "stream",
          "name": "stdout",
          "text": [
            "[[3.0, 2.5505125, 2.1863020042187498, 1.888238246711658, 1.6418661445146343, 1.4362210646017972], [-2.5, -2.01609375, -1.641991203515625, -1.3507205260651318, -1.1221586389369702, -0.9412697280559361]]\n"
          ]
        }
      ]
    },
    {
      "cell_type": "code",
      "source": [
        "# solving the same problem using scipy\n",
        "from scipy.integrate import solve_ivp\n",
        "import matplotlib.pyplot as plt\n",
        "\n",
        "sol = solve_ivp(fun = problem['f'],\n",
        "                t_span = [problem['x0'], problem['xn']],\n",
        "                y0 = problem['y0'])\n",
        "\n",
        "# Plot the solution\n",
        "plt.plot(sol.t, sol.y[0], 'b-', label='y1_scipy(t)')\n",
        "plt.plot(X, Y[0], '--', label='y1_rk(t)', marker='s')\n",
        "\n",
        "plt.plot(sol.t, sol.y[1], 'r-', label='y2_scipy(t)')\n",
        "plt.plot(X, Y[1], '--', label='y2_rk(t)', marker='>')\n",
        "plt.xlabel('t')\n",
        "plt.ylabel('y')\n",
        "plt.legend()\n",
        "plt.show()"
      ],
      "metadata": {
        "colab": {
          "base_uri": "https://localhost:8080/",
          "height": 279
        },
        "id": "88hHeYtR9444",
        "outputId": "977e564a-014b-4073-ae8a-28852422bfa2"
      },
      "execution_count": null,
      "outputs": [
        {
          "output_type": "display_data",
          "data": {
            "text/plain": [
              "<Figure size 432x288 with 1 Axes>"
            ],
            "image/png": "[encoded data removed]"
          },
          "metadata": {
            "needs_background": "light"
          }
        }
      ]
    },
    {
      "cell_type": "code",
      "source": [
        "problem = {'y0': [1,2]}\n",
        "print(problem)"
      ],
      "metadata": {
        "colab": {
          "base_uri": "https://localhost:8080/"
        },
        "id": "3yCy6Wem_wUr",
        "outputId": "a345e93f-0daf-4aae-c4ca-5ad32f99490b"
      },
      "execution_count": null,
      "outputs": [
        {
          "output_type": "stream",
          "name": "stdout",
          "text": [
            "{'y0': [1, 2]}\n"
          ]
        }
      ]
    },
    {
      "cell_type": "code",
      "source": [
        "def eulerExplicitoAlg():\n",
        "  y = np.array(problem['y0'], copy = True)\n",
        "\n",
        "  y += 1 # [1, 2] + 1 = [2, 3] = y mas também problem['y0'] = [2, 3]\n",
        "\n",
        "eulerExplicitoAlg()"
      ],
      "metadata": {
        "id": "ZPn-I39H_3Kz"
      },
      "execution_count": null,
      "outputs": []
    },
    {
      "cell_type": "code",
      "source": [
        "print(problem)"
      ],
      "metadata": {
        "colab": {
          "base_uri": "https://localhost:8080/"
        },
        "id": "VrTndvR2AE2C",
        "outputId": "620097b7-6fa2-4fcb-ddc8-12afdbc1cd8f"
      },
      "execution_count": null,
      "outputs": [
        {
          "output_type": "stream",
          "name": "stdout",
          "text": [
            "{'y0': array([1, 2])}\n"
          ]
        }
      ]
    }
  ]
}
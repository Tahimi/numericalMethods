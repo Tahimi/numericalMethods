{
  "nbformat": 4,
  "nbformat_minor": 0,
  "metadata": {
    "colab": {
      "provenance": [],
      "include_colab_link": true
    },
    "kernelspec": {
      "name": "python3",
      "display_name": "Python 3"
    },
    "language_info": {
      "name": "python"
    }
  },
  "cells": [
    {
      "cell_type": "markdown",
      "metadata": {
        "id": "view-in-github",
        "colab_type": "text"
      },
      "source": [
        "<a href=\"https://colab.research.google.com/github/Tahimi/numericalMethods/blob/main/bvp_FEMLinear.ipynb\" target=\"_parent\"><img src=\"https://colab.research.google.com/assets/colab-badge.svg\" alt=\"Open In Colab\"/></a>"
      ]
    },
    {
      "cell_type": "markdown",
      "source": [
        "# Linear Finite Element Method For Linear Second Order Differential Equations"
      ],
      "metadata": {
        "id": "PsOLbnE8Euow"
      }
    },
    {
      "cell_type": "code",
      "execution_count": null,
      "metadata": {
        "colab": {
          "base_uri": "https://localhost:8080/"
        },
        "id": "v76fjvwCgqRF",
        "outputId": "062c327e-aaba-471a-a403-7709098cc76d"
      },
      "outputs": [
        {
          "output_type": "stream",
          "name": "stdout",
          "text": [
            "h =  1.0\n",
            "t =  [0. 1. 2. 3. 4. 5.]\n",
            "y = \n",
            " [[ 0.  0.  0.  0.  0. 50.]\n",
            " [ 0.  0.  0.  0.  0.  0.]]\n"
          ]
        }
      ],
      "source": [
        "# Nonlinear BVP of second order\n",
        "# EDO: y'' = f(t, y, y'), tL <= t <= tR\n",
        "# BCs: y(tL) = yL and y(tR) = yR\n",
        "\n",
        "# Exemple Problem\n",
        "# EDO: y'' = -9.8, 0 <= t <= 5\n",
        "# BCs: y(0) = 0 and y(5) = 50\n",
        "\n",
        "import numpy as np\n",
        "\n",
        "f = lambda t, y: -9.8\n",
        "\n",
        "# initial (left) and final (right) instants of time\n",
        "tL = 0\n",
        "tR = 5\n",
        "\n",
        "# left and right altitudes (Dirichlet BCs)\n",
        "yL0 = 0\n",
        "yR0 = 50\n",
        "\n",
        "N = 5\n",
        "h = (tR - tL)/N\n",
        "print('h = ', h)\n",
        "\n",
        "t = np.linspace(tL, tR, N+1)\n",
        "print('t = ', t)\n",
        "\n",
        "y = np.zeros((2, N+1)) # y = [altitude, velocidade]\n",
        "y[0][ 0] = yL0\n",
        "y[0][-1] = yR0\n",
        "\n",
        "print('y = \\n', y)"
      ]
    },
    {
      "cell_type": "code",
      "source": [
        "class Grid:\n",
        "  def __init__(self, t):\n",
        "    self.t = t\n",
        "    self.cellsNbr = len(self.t) - 1\n",
        "    self.nodes = [Node(i, ti) for i, ti in enumerate(self.t)]\n",
        "    self.cells = [Cell(i, [self.nodes[i], self.nodes[i+1]]) for i in range(self.cellsNbr)]\n",
        "\n",
        "class Node:\n",
        "  def __init__(self, idx, t):\n",
        "    self.idx = idx\n",
        "    self.t = t\n",
        "\n",
        "class Cell:\n",
        "  def __init__(self, idx, nodes):\n",
        "    self.idx = idx\n",
        "    self.nodes = nodes\n",
        "    self.faces = [Face(0, self.nodes[0]), Face(1, self.nodes[-1])]\n",
        "\n",
        "class Face:\n",
        "  def __init__(self, idx, node, isNeumann = False):\n",
        "    self.idx = idx\n",
        "    self.node = node\n",
        "    self.isNeumann = isNeumann\n",
        "    self.dS = np.array([1]) * (-1 if self.idx == 0 else 1)"
      ],
      "metadata": {
        "id": "3qp5cwZItvdg"
      },
      "execution_count": null,
      "outputs": []
    },
    {
      "cell_type": "code",
      "source": [
        "# making the grid\n",
        "grid = Grid(t)"
      ],
      "metadata": {
        "id": "TtTJBEQOSZ3Z"
      },
      "execution_count": null,
      "outputs": []
    },
    {
      "cell_type": "code",
      "source": [
        "from sympy import symbols, Matrix, lambdify, diff, integrate\n",
        "from IPython.display import display\n",
        "\n",
        "t_, y_ = symbols('t_ y_')\n",
        "\n",
        "# Trial functions\n",
        "phi = lambda t: Matrix([1-t/h, t/h])\n",
        "Dphi = lambda t: Matrix(phi(t_).diff(t_))\n",
        "display('phi = ', phi(t_))\n",
        "display('Dphi = ', Dphi(t_))\n",
        "\n",
        "# Test functions\n",
        "psi = phi\n",
        "Dpsi = Dphi"
      ],
      "metadata": {
        "colab": {
          "base_uri": "https://localhost:8080/",
          "height": 135
        },
        "id": "BoBvQs8jfFAB",
        "outputId": "e3e88439-c1a5-4877-9c8a-494fb595a8cd"
      },
      "execution_count": null,
      "outputs": [
        {
          "output_type": "display_data",
          "data": {
            "text/plain": [
              "'phi = '"
            ],
            "application/vnd.google.colaboratory.intrinsic+json": {
              "type": "string"
            }
          },
          "metadata": {}
        },
        {
          "output_type": "display_data",
          "data": {
            "text/plain": [
              "Matrix([\n",
              "[1 - 1.0*t_],\n",
              "[    1.0*t_]])"
            ],
            "text/latex": "$\\displaystyle \\left[\\begin{matrix}1 - 1.0 t_{}\\\\1.0 t_{}\\end{matrix}\\right]$"
          },
          "metadata": {}
        },
        {
          "output_type": "display_data",
          "data": {
            "text/plain": [
              "'Dphi = '"
            ],
            "application/vnd.google.colaboratory.intrinsic+json": {
              "type": "string"
            }
          },
          "metadata": {}
        },
        {
          "output_type": "display_data",
          "data": {
            "text/plain": [
              "Matrix([\n",
              "[-1.0],\n",
              "[ 1.0]])"
            ],
            "text/latex": "$\\displaystyle \\left[\\begin{matrix}-1.0\\\\1.0\\end{matrix}\\right]$"
          },
          "metadata": {}
        }
      ]
    },
    {
      "cell_type": "code",
      "source": [
        "# computing the Finite Element's Stiffness Matrix, Ke\n",
        "Ke = np.zeros((2,2))\n",
        "for i in range(len(Dphi(t_))):\n",
        "  for j in range(len(Dpsi(t_))):\n",
        "    Ke[i, j] = integrate(Dphi(t_)[i] * Dpsi(t_)[j], (t_, 0, h)).doit()\n",
        "print(\"Finite Element's Stiffness Matrix: Ke = \\n\", Ke)"
      ],
      "metadata": {
        "colab": {
          "base_uri": "https://localhost:8080/"
        },
        "id": "JfNz2kEeSwGD",
        "outputId": "619de096-f800-497a-bb99-44a8f8d8b0fc"
      },
      "execution_count": null,
      "outputs": [
        {
          "output_type": "stream",
          "name": "stdout",
          "text": [
            "Finite Element's Stiffness Matrix: Ke = \n",
            " [[ 1. -1.]\n",
            " [-1.  1.]]\n"
          ]
        }
      ]
    },
    {
      "cell_type": "code",
      "source": [
        "# computing the Grid's Stiffness Matrix, K\n",
        "gridNodesNbr = len(grid.nodes)\n",
        "K = np.zeros((gridNodesNbr, gridNodesNbr))\n",
        "for cell in grid.cells:\n",
        "  cellNodesIdx = [node.idx for node in cell.nodes]\n",
        "  cellIdxsInK = np.ix_(cellNodesIdx, cellNodesIdx)\n",
        "  K[cellIdxsInK] += Ke\n",
        "print(\"Grid's Stifness Matrix: K = \\n\", K)\n",
        "\n",
        "how_to_use = '''\n",
        "np.ix_() to select a submatrix of K,\n",
        "np.ix_([0,0],[0,1]) = ([[0],[1]], [[0,1]]) = (lines, columns)\n",
        "--> K[([[0],[1]], [[0,1]])] = K entries in lines 0 and 1 and columns 0 and 1\n",
        "                            = [[K00, K01]\n",
        "                               [K10, K11]]\n",
        "                            = submatrix of K\n",
        "'''"
      ],
      "metadata": {
        "colab": {
          "base_uri": "https://localhost:8080/"
        },
        "id": "UA6ANwNkiU54",
        "outputId": "515f8b62-e23a-4c54-cdce-089ffc0c9f50"
      },
      "execution_count": null,
      "outputs": [
        {
          "output_type": "stream",
          "name": "stdout",
          "text": [
            "Grid's Stifness Matrix: K = \n",
            " [[ 1. -1.  0.  0.  0.  0.]\n",
            " [-1.  2. -1.  0.  0.  0.]\n",
            " [ 0. -1.  2. -1.  0.  0.]\n",
            " [ 0.  0. -1.  2. -1.  0.]\n",
            " [ 0.  0.  0. -1.  2. -1.]\n",
            " [ 0.  0.  0.  0. -1.  1.]]\n"
          ]
        }
      ]
    },
    {
      "cell_type": "code",
      "source": [
        "# computing the Finite Element's Source Vector, Fe\n",
        "Fe = np.zeros((2,))\n",
        "for i in [0, 1]:\n",
        "  Fe[i] = integrate(-f(t_,y_)*phi(t_)[i], (t_, 0, h)).doit()\n",
        "print(\"Finite Element's Source Vector: Fe = \", Fe)"
      ],
      "metadata": {
        "colab": {
          "base_uri": "https://localhost:8080/"
        },
        "id": "F6dXlsbITDcK",
        "outputId": "d89af9bb-37d6-4816-9393-957968ad9986"
      },
      "execution_count": null,
      "outputs": [
        {
          "output_type": "stream",
          "name": "stdout",
          "text": [
            "Finite Element's Source Vector: Fe =  [4.9 4.9]\n"
          ]
        }
      ]
    },
    {
      "cell_type": "code",
      "source": [
        "# computing the Grid's Source Vector, F\n",
        "F = np.zeros((N + 1,))\n",
        "for cell in grid.cells:\n",
        "  cellNodesIdx = [node.idx for node in cell.nodes]\n",
        "  F[cellNodesIdx] += Fe\n",
        "print(\"Grid's Source Vector: F = \\n\", F)"
      ],
      "metadata": {
        "colab": {
          "base_uri": "https://localhost:8080/"
        },
        "id": "0k0OaWxS6jbZ",
        "outputId": "62884224-a630-4eac-835e-85b82a50a3b2"
      },
      "execution_count": null,
      "outputs": [
        {
          "output_type": "stream",
          "name": "stdout",
          "text": [
            "Grid's Source Vector: F = \n",
            " [4.9 9.8 9.8 9.8 9.8 4.9]\n"
          ]
        }
      ]
    },
    {
      "cell_type": "code",
      "source": [
        "# Applying the Dirichlet BCs\n",
        "K[ 0, :] = 0; K[ 0, 0] = 1; F[ 0] = yL0\n",
        "K[-1, :] = 0; K[-1,-1] = 1; F[-1] = yR0\n",
        "print(\"Grid's Stifness Matrix: K = \\n\", K)\n",
        "print(\"Grid's Source Vector: F = \\n\", F)"
      ],
      "metadata": {
        "colab": {
          "base_uri": "https://localhost:8080/"
        },
        "id": "yxhrbPwGsvGl",
        "outputId": "12d3ee3a-4ec5-4cd0-c6e8-53dd841c8d9c"
      },
      "execution_count": null,
      "outputs": [
        {
          "output_type": "stream",
          "name": "stdout",
          "text": [
            "Grid's Stifness Matrix: K = \n",
            " [[ 1.  0.  0.  0.  0.  0.]\n",
            " [-1.  2. -1.  0.  0.  0.]\n",
            " [ 0. -1.  2. -1.  0.  0.]\n",
            " [ 0.  0. -1.  2. -1.  0.]\n",
            " [ 0.  0.  0. -1.  2. -1.]\n",
            " [ 0.  0.  0.  0.  0.  1.]]\n",
            "Grid's Source Vector: F = \n",
            " [ 0.   9.8  9.8  9.8  9.8 50. ]\n"
          ]
        }
      ]
    },
    {
      "cell_type": "code",
      "source": [
        "# computing the Grid's Neumann Boundary Vector, F\n",
        "G = np.zeros((N + 1,))\n",
        "for cell in grid.cells:\n",
        "  for face in cell.faces:\n",
        "    if face.isNeumann:\n",
        "      nodeIdx = face.node.idx\n",
        "      velocity = np.array([y[1][nodeIdx]])\n",
        "      G[nodeIdx] += np.dot(velocity, face.dS)\n",
        "print(\"Grid's Neumann Boundary Vector: G = \", G)"
      ],
      "metadata": {
        "colab": {
          "base_uri": "https://localhost:8080/"
        },
        "id": "yUjSrQNxoHMk",
        "outputId": "1abb6b2e-93e5-41a4-c598-bfd7c7e4920c"
      },
      "execution_count": null,
      "outputs": [
        {
          "output_type": "stream",
          "name": "stdout",
          "text": [
            "Grid's Neumann Boundary Vector: G =  [0. 0. 0. 0. 0. 0.]\n"
          ]
        }
      ]
    },
    {
      "cell_type": "code",
      "source": [
        "print('K = \\n', K)\n",
        "print('F = ', F)\n",
        "print('G = ', G)\n",
        "y[0] = np.linalg.solve(K, F+G)\n",
        "print('altitude = y[0] = ', y[0])"
      ],
      "metadata": {
        "colab": {
          "base_uri": "https://localhost:8080/"
        },
        "id": "1PbPGcszn1eY",
        "outputId": "9b41bbca-71ac-4a85-83bb-9fdf58ec7b4e"
      },
      "execution_count": null,
      "outputs": [
        {
          "output_type": "stream",
          "name": "stdout",
          "text": [
            "K = \n",
            " [[ 1.  0.  0.  0.  0.  0.]\n",
            " [-1.  2. -1.  0.  0.  0.]\n",
            " [ 0. -1.  2. -1.  0.  0.]\n",
            " [ 0.  0. -1.  2. -1.  0.]\n",
            " [ 0.  0.  0. -1.  2. -1.]\n",
            " [ 0.  0.  0.  0.  0.  1.]]\n",
            "F =  [ 0.   9.8  9.8  9.8  9.8 50. ]\n",
            "G =  [0. 0. 0. 0. 0. 0.]\n",
            "altitude = y[0] =  [ 0.  29.6 49.4 59.4 59.6 50. ]\n"
          ]
        }
      ]
    },
    {
      "cell_type": "code",
      "source": [
        "# computing the velocity profile, y[1] = ?\n",
        "# intermediate points\n",
        "for i in range(0,N):\n",
        "  y[1][i] = (y[0][i+1] - y[0][i])/h # Forward Euler\n",
        "y[1][-1] = (y[0][-1] - y[0][-2])/h # Backward Euler\n",
        "print('velocity = y[1] = ', y[1])\n",
        "\n",
        "yL1 = y[1][0]\n",
        "yR1 = y[1][-1]\n",
        "print('Initial velocity = yL1 = ', yL1)\n",
        "print('Final velocity = yR1 = ', yR1)"
      ],
      "metadata": {
        "colab": {
          "base_uri": "https://localhost:8080/"
        },
        "id": "bW9chH8cvavw",
        "outputId": "31acae12-02b5-42d9-c676-b364b5a95165"
      },
      "execution_count": null,
      "outputs": [
        {
          "output_type": "stream",
          "name": "stdout",
          "text": [
            "velocity = y[1] =  [29.6 19.8 10.   0.2 -9.6 -9.6]\n",
            "Initial velocity = yL1 =  29.6\n",
            "Final velocity = yR1 =  -9.600000000000001\n"
          ]
        }
      ]
    },
    {
      "cell_type": "code",
      "source": [
        "import matplotlib.pyplot as plt\n",
        "plt.style.use(\"seaborn-v0_8-darkgrid\")\n",
        "%matplotlib inline\n",
        "\n",
        "plt.figure(figsize = (6,4))\n",
        "plt.plot(t, y[0], 'ko--')\n",
        "plt.plot(tR, yR0, 'ro')\n",
        "plt.xlabel('Time (s)')\n",
        "plt.ylabel('Altitude (m)')\n",
        "plt.title(f'Initial Conditions: altitude = {yL0} (m), velocity = {yL1:.2f} (m/s)')\n",
        "plt.show()"
      ],
      "metadata": {
        "colab": {
          "base_uri": "https://localhost:8080/",
          "height": 403
        },
        "id": "EOrgaK-7uRu7",
        "outputId": "3d5397bc-887a-4811-a250-59697a54ede9"
      },
      "execution_count": null,
      "outputs": [
        {
          "output_type": "display_data",
          "data": {
            "text/plain": [
              "<Figure size 600x400 with 1 Axes>"
            ],
            "image/png": "[encoded data removed]"
          },
          "metadata": {}
        }
      ]
    }
  ]
}
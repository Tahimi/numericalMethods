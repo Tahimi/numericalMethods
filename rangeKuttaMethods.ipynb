{
  "nbformat": 4,
  "nbformat_minor": 0,
  "metadata": {
    "colab": {
      "provenance": [],
      "include_colab_link": true
    },
    "kernelspec": {
      "name": "python3",
      "display_name": "Python 3"
    },
    "language_info": {
      "name": "python"
    }
  },
  "cells": [
    {
      "cell_type": "markdown",
      "metadata": {
        "id": "view-in-github",
        "colab_type": "text"
      },
      "source": [
        "<a href=\"https://colab.research.google.com/github/Tahimi/numericalMethods/blob/main/rangeKuttaMethods.ipynb\" target=\"_parent\"><img src=\"https://colab.research.google.com/assets/colab-badge.svg\" alt=\"Open In Colab\"/></a>"
      ]
    },
    {
      "cell_type": "code",
      "source": [
        "import inspect\n",
        "def my_solve_ivp(problem, ivpAlg):\n",
        "  # naming this solver\n",
        "  algName = inspect.stack()[0][3]\n",
        "\n",
        "  # Reading the problem's data\n",
        "  probName = problem['name']\n",
        "  f = problem['f']\n",
        "  xL = problem['xL']\n",
        "  xR = problem['xR']\n",
        "  yL = problem['yL']\n",
        "  h = problem['h']\n",
        "\n",
        "  # calling the algorithm, (Euler, Range Kutta,...)\n",
        "  X, Y = ivpAlg(f, xL, yL, h, n = round((xR - xL)/h))\n",
        "\n",
        "  print(algName, 'is done solving', probName)\n",
        "  return X, Y"
      ],
      "metadata": {
        "id": "NZeIcxsnjyaW"
      },
      "execution_count": null,
      "outputs": []
    },
    {
      "cell_type": "code",
      "source": [
        "def rk4_step(f, x, y, h):\n",
        "  k1 = h*f(x, y)\n",
        "  k2 = h*f(x + h/2., y + k1/2.)\n",
        "  k3 = h*f(x + h/2., y + k2/2.)\n",
        "  k4 = h*f(x + h, y + k3)\n",
        "  return (k1 + 2*k2 + 2*k3 + k4)/6."
      ],
      "metadata": {
        "id": "-66fhOGXl5ET"
      },
      "execution_count": null,
      "outputs": []
    },
    {
      "cell_type": "code",
      "source": [
        "def rk5_step(f, x, y, h):\n",
        "  k1 = h * f(x, y)\n",
        "  k2 = h * f(x + h/4, y + k1/4)\n",
        "  k3 = h * f(x + 3*h/8, y + 3*k1/32 + 9*k2/32)\n",
        "  k4 = h * f(x + 12*h/13, y + 1932*k1/2197 - 7200*k2/2197 + 7296*k3/2197)\n",
        "  k5 = h * f(x + h, y + 439*k1/216 - 8*k2 + 3680*k3/513 - 845*k4/4104)\n",
        "  k6 = h * f(x + h/2, y - 8*k1/27 + 2*k2 - 3544*k3/2565 + 1859*k4/4104 - 11*k5/40)\n",
        "  return 25*k1/216 + 1408*k3/2565 + 2197*k4/4104 - k5/5"
      ],
      "metadata": {
        "id": "yL1olWewozia"
      },
      "execution_count": null,
      "outputs": []
    },
    {
      "cell_type": "code",
      "source": [
        "def rk4(f, xL, yL, h, n):\n",
        "  x = xL\n",
        "  y = yL\n",
        "\n",
        "  # Variables Saving\n",
        "  X = [x]\n",
        "  Y = [y]\n",
        "\n",
        "  for i in range(n):\n",
        "    # Variables Updating\n",
        "    y += rk4_step(f, x, y, h)\n",
        "    x += h\n",
        "\n",
        "    # Variables Saving\n",
        "    X += [x]\n",
        "    Y += [y]\n",
        "\n",
        "  return X, Y"
      ],
      "metadata": {
        "id": "E9nYOTmIafSA"
      },
      "execution_count": null,
      "outputs": []
    },
    {
      "cell_type": "code",
      "source": [
        "def rk5(f, xL, yL, h, n):\n",
        "  x = xL\n",
        "  y = yL\n",
        "\n",
        "  # Variables Saving\n",
        "  X = [x]\n",
        "  Y = [y]\n",
        "\n",
        "  for i in range(n):\n",
        "    k1 = h * f(x, y)\n",
        "    k2 = h * f(x + h/4, y + k1/4)\n",
        "    k3 = h * f(x + 3*h/8, y + 3*k1/32 + 9*k2/32)\n",
        "    k4 = h * f(x + 12*h/13, y + 1932*k1/2197 - 7200*k2/2197 + 7296*k3/2197)\n",
        "    k5 = h * f(x + h, y + 439*k1/216 - 8*k2 + 3680*k3/513 - 845*k4/4104)\n",
        "    k6 = h * f(x + h/2, y - 8*k1/27 + 2*k2 - 3544*k3/2565 + 1859*k4/4104 - 11*k5/40)\n",
        "\n",
        "    # Variables Updating\n",
        "    y = y + 25*k1/216 + 1408*k3/2565 + 2197*k4/4104 - k5/5\n",
        "    x = x + h\n",
        "\n",
        "    # Variables Saving\n",
        "    X += [x]\n",
        "    Y += [y]\n",
        "\n",
        "  return X, Y"
      ],
      "metadata": {
        "id": "Jn5cUwxHaYMP"
      },
      "execution_count": null,
      "outputs": []
    },
    {
      "cell_type": "code",
      "source": [
        "import numpy as np\n",
        "import math\n",
        "\n",
        "problem1 = {'name':'problem1',\n",
        "            'f': lambda x, y: -y + np.sin(x),\n",
        "            'xL': 0,\n",
        "            'xR': 10,\n",
        "            'yL': 0,\n",
        "            'h': 1}\n",
        "print(problem1)"
      ],
      "metadata": {
        "colab": {
          "base_uri": "https://localhost:8080/"
        },
        "id": "8b_t-opCjRf-",
        "outputId": "d4da8fe0-0389-4141-8aa0-40cd223c1f0e"
      },
      "execution_count": null,
      "outputs": [
        {
          "output_type": "stream",
          "name": "stdout",
          "text": [
            "{'name': 'problem1', 'f': <function <lambda> at 0x7faaaf4c8ee0>, 'xL': 0, 'xR': 10, 'yL': 0, 'h': 1}\n"
          ]
        }
      ]
    },
    {
      "cell_type": "code",
      "source": [
        "# find the analytic solution using symbolic solver\n",
        "import sympy as sp\n",
        "\n",
        "# Define symbols\n",
        "x = sp.symbols('x')\n",
        "y = sp.Function('y')(x)\n",
        "\n",
        "# Define function f(x, y)\n",
        "f = -y + sp.sin(x)\n",
        "\n",
        "# Find symbolic solution\n",
        "solution = sp.dsolve(sp.Eq(y.diff(x), f))\n",
        "\n",
        "# Print general solution\n",
        "print('solution.rhs = ', solution.rhs)\n",
        "\n",
        "# Find particular solution for y(0) = yL\n",
        "C1 = sp.symbols('C1')\n",
        "xL = problem1['xL']\n",
        "yL = problem1['xL']\n",
        "particular_solution = solution.subs({C1: sp.solve(solution.rhs.subs(x, xL) - yL)[0]})\n",
        "#print('sp.solve(solution.rhs.subs(x, 0) - 2) = ', sp.solve(solution.rhs.subs(x, 0) - 2))\n",
        "\n",
        "# Print particular solution\n",
        "print('particular_solution.rhs = ', particular_solution.rhs)\n",
        "\n",
        "# Turn particular solution into a lambda function\n",
        "y_lambda = sp.lambdify(x, particular_solution.rhs)\n",
        "\n",
        "# Evaluate the lambda function at x = 1\n",
        "print('y_lambda(1) = ', y_lambda(1))"
      ],
      "metadata": {
        "colab": {
          "base_uri": "https://localhost:8080/"
        },
        "id": "3_Xb2EwivmTZ",
        "outputId": "6ac28ad9-64d6-4df9-a3bd-5790d48d467c"
      },
      "execution_count": null,
      "outputs": [
        {
          "output_type": "stream",
          "name": "stdout",
          "text": [
            "solution.rhs =  C1*exp(-x) + sin(x)/2 - cos(x)/2\n",
            "particular_solution.rhs =  sin(x)/2 - cos(x)/2 + exp(-x)/2\n",
            "y_lambda(1) =  0.33452406005559954\n"
          ]
        }
      ]
    },
    {
      "cell_type": "code",
      "source": [
        "# insert the analytic solution into the problem description\n",
        "problem1['fa'] = y_lambda\n",
        "print(problem1)\n",
        "\n",
        "# Evaluate the lambda function at x = 1\n",
        "fa = problem1['fa']\n",
        "print('fa(1) = ', fa(1))"
      ],
      "metadata": {
        "colab": {
          "base_uri": "https://localhost:8080/"
        },
        "id": "W-VJ_cf_YV_4",
        "outputId": "29979ecc-d13a-467d-d216-ed97ba29bb5c"
      },
      "execution_count": null,
      "outputs": [
        {
          "output_type": "stream",
          "name": "stdout",
          "text": [
            "{'name': 'problem1', 'f': <function <lambda> at 0x7faaaf4c8ee0>, 'xL': 0, 'xR': 10, 'yL': 0, 'h': 1, 'fa': <function _lambdifygenerated at 0x7faa85ba0820>}\n",
            "fa(1) =  0.33452406005559954\n"
          ]
        }
      ]
    },
    {
      "cell_type": "code",
      "source": [
        "# select the problem and solve it\n",
        "problem = problem1\n",
        "X, Yrk4 = my_solve_ivp(problem, rk4)\n",
        "_, Yrk5 = my_solve_ivp(problem, rk5)"
      ],
      "metadata": {
        "colab": {
          "base_uri": "https://localhost:8080/"
        },
        "id": "DneHzYbqjPI7",
        "outputId": "f1de77f2-a568-4a1c-a8e7-06ceb87ada85"
      },
      "execution_count": null,
      "outputs": [
        {
          "output_type": "stream",
          "name": "stdout",
          "text": [
            "my_solve_ivp is done solving problem1\n",
            "my_solve_ivp is done solving problem1\n"
          ]
        }
      ]
    },
    {
      "cell_type": "code",
      "source": [
        "# solve the same problem using scipy IVP solver\n",
        "from scipy.integrate import solve_ivp\n",
        "\n",
        "# obs. one uses large values for tolerances to force the algorithm to use\n",
        "# the largest step allowed, whci is set to be h; this way we get a constant\n",
        "# step size allowing a fair comparaison with other methods (finite diferences\n",
        "# for example). Otherwise, the scipy algorithm uses a variable step size,\n",
        "# sine this is the default behaviour for all scipy IVP solvers.\n",
        "sol = solve_ivp(fun = problem['f'],\n",
        "                t_span = [problem['xL'], problem['xR']],\n",
        "                y0 = [yL],\n",
        "                t_eval = X,\n",
        "                method = \"RK45\",\n",
        "                max_step = problem['h'],\n",
        "                atol = 1e90,\n",
        "                rtol = 1e90)\n",
        "Y_scipy = sol.y[0]\n",
        "print('Y_scipy = ', Y_scipy)"
      ],
      "metadata": {
        "colab": {
          "base_uri": "https://localhost:8080/"
        },
        "id": "qXPpdnoveXrA",
        "outputId": "f658c868-84ad-42ab-8ba0-ce64250d8c9d"
      },
      "execution_count": null,
      "outputs": [
        {
          "output_type": "stream",
          "name": "stdout",
          "text": [
            "Y_scipy =  [ 0.          0.33477444  0.73052269  0.59033811 -0.04261543 -0.61797733\n",
            " -0.61839227 -0.04776236  0.56770007  0.66156056  0.14734567]\n"
          ]
        }
      ]
    },
    {
      "cell_type": "code",
      "source": [
        "# computing the analytic solution vector\n",
        "Ya = [problem['fa'](float(x)) for x in X]"
      ],
      "metadata": {
        "id": "WajPn6EIjjZu"
      },
      "execution_count": null,
      "outputs": []
    },
    {
      "cell_type": "code",
      "source": [
        "# plot the results for comparaison\n",
        "import matplotlib.pyplot as plt\n",
        "\n",
        "plt.plot(X, Yrk4, marker='s', label='yrk4(x)')\n",
        "plt.plot(X, Yrk5, color='r', marker='v', markersize=12, markerfacecolor='None', label='yrk5(x)')\n",
        "plt.plot(X, Y_scipy, color='b', linestyle='-', marker='>', markersize=12, markerfacecolor='None', label='y_scipy(x)')\n",
        "plt.plot(X, Ya, marker='o', markersize=16, markerfacecolor='None', label='ya(x)')\n",
        "plt.legend(loc='best')\n",
        "plt.show()"
      ],
      "metadata": {
        "colab": {
          "base_uri": "https://localhost:8080/",
          "height": 265
        },
        "id": "r1JQJIk8jkL1",
        "outputId": "9eaf4f29-9882-49e9-c67e-ad9eb9cf5a4c"
      },
      "execution_count": null,
      "outputs": [
        {
          "output_type": "display_data",
          "data": {
            "text/plain": [
              "<Figure size 432x288 with 1 Axes>"
            ],
            "image/png": "[encoded data removed]"
          },
          "metadata": {
            "needs_background": "light"
          }
        }
      ]
    },
    {
      "cell_type": "code",
      "source": [
        "# implementing Range Kutta 45, (of 5th order with adaptive step size)\n",
        "import numpy as np\n",
        "def rk45(f, xL, xR, yL, tol=1e-9, h_min=-np.inf, h_max=np.inf):\n",
        "  x = xL\n",
        "  y = yL\n",
        "\n",
        "  # Variables saving\n",
        "  X = [x]\n",
        "  Y = [y]\n",
        "\n",
        "  # initialize the step size\n",
        "  h = (xR - xL)/10.\n",
        "\n",
        "  i = 0\n",
        "  while x < xR:\n",
        "    i += 1\n",
        "    # compute the rk4 and rk5 estimates for the next y\n",
        "    y4 = y + rk4_step(f, x, y, h)\n",
        "    y5 = y + rk5_step(f, x, y, h)\n",
        "\n",
        "    # Calculate the error estimate\n",
        "    err = abs(y5 - y4)/h\n",
        "\n",
        "    # Variables updating and saving, (conditional)\n",
        "    if err < tol:\n",
        "      y = y5\n",
        "      x += h\n",
        "\n",
        "      X += [x]\n",
        "      Y += [y]\n",
        "\n",
        "    # step size updating, (within the allowed range)\n",
        "    # there are 2 options\n",
        "    h = updateStepSize1(h, err, tol, h_min, h_max)\n",
        "    #h = updateStepSize2(h, err, tol, h_min, h_max)\n",
        "\n",
        "  return X, Y\n",
        "\n",
        "def updateStepSize1(h, err, tol, h_min, h_max):\n",
        "  delta = 0.84*(tol/err)**0.25\n",
        "  if delta <= 0.1:\n",
        "    h = 0.1*h\n",
        "  elif delta >= 4:\n",
        "      h = 4*h\n",
        "  else:\n",
        "      h = delta*h\n",
        "  h = max(h, h_min)\n",
        "  h = min(h, h_max)\n",
        "  return h\n",
        "\n",
        "def updateStepSize2(h, err, tol, h_min, h_max):\n",
        "  h = h*0.9*(tol/err)**0.2\n",
        "  h = max(h, h_min)\n",
        "  h = min(h, h_max)\n",
        "  return h"
      ],
      "metadata": {
        "id": "__uABDYQnY3m"
      },
      "execution_count": null,
      "outputs": []
    },
    {
      "cell_type": "code",
      "source": [
        "import inspect\n",
        "def my_solve_ivp2(problem, method):\n",
        "  # naming this solver\n",
        "  algName = inspect.stack()[0][3]\n",
        "\n",
        "  # Reading the problem's data\n",
        "  probName = problem['name']\n",
        "  f = problem['f']\n",
        "  xL = problem['xL']\n",
        "  xR = problem['xR']\n",
        "  yL = problem['yL']\n",
        "  h = problem['h']\n",
        "\n",
        "  # calling the algorithm, (Euler, Range Kutta,...)\n",
        "  X, Y = rk45(f, xL, xR, yL)\n",
        "\n",
        "  print(algName, 'is done solving', probName)\n",
        "  return X, Y"
      ],
      "metadata": {
        "id": "nvwBMtZIseZ7"
      },
      "execution_count": null,
      "outputs": []
    },
    {
      "cell_type": "code",
      "source": [
        "Xrk45, Yrk45 = my_solve_ivp2(problem, rk45)"
      ],
      "metadata": {
        "colab": {
          "base_uri": "https://localhost:8080/"
        },
        "id": "LwYr2ClurDWY",
        "outputId": "f8a21e5a-77cc-425f-b109-54d1da281b04"
      },
      "execution_count": null,
      "outputs": [
        {
          "output_type": "stream",
          "name": "stdout",
          "text": [
            "my_solve_ivp2 is done solving problem1\n"
          ]
        }
      ]
    },
    {
      "cell_type": "code",
      "source": [
        "# solve the same problem using scipy IVP solver (with adaptive step size)\n",
        "from scipy.integrate import solve_ivp\n",
        "\n",
        "# obs. one uses large values for tolerances to force the algorithm to use\n",
        "# the largest step allowed, whci is set to be h; this way we get a constant\n",
        "# step size allowing a fair comparaison with other methods (finite diferences\n",
        "# for example). Otherwise, the scipy algorithm uses a variable step size,\n",
        "# sine this is the default behaviour for all scipy IVP solvers.\n",
        "sol2 = solve_ivp(fun = problem['f'],\n",
        "                 t_span = [problem['xL'], problem['xR']],\n",
        "                 y0 = [yL],\n",
        "                 dense_output = True,\n",
        "                 method = \"RK45\")\n",
        "X_scipy2 = np.linspace(problem['xL'], problem['xR'], 100)\n",
        "Y_scipy2 = sol2.sol(X_scipy2)[0]\n",
        "print('Y_scipy2.size = ', Y_scipy2.size)"
      ],
      "metadata": {
        "colab": {
          "base_uri": "https://localhost:8080/"
        },
        "id": "HGZo6l40Licy",
        "outputId": "977c7649-6184-48d0-bc15-4d2fb6f07b90"
      },
      "execution_count": null,
      "outputs": [
        {
          "output_type": "stream",
          "name": "stdout",
          "text": [
            "Y_scipy2.size =  100\n"
          ]
        }
      ]
    },
    {
      "cell_type": "code",
      "source": [
        "# computing the analytic solution vector\n",
        "YaRk45 = [problem['fa'](float(x)) for x in X_scipy2]\n",
        "print('len(YaRk45) = ', len(YaRk45))"
      ],
      "metadata": {
        "colab": {
          "base_uri": "https://localhost:8080/"
        },
        "id": "aQN9R488qxos",
        "outputId": "ce5ed5ac-095e-4e9e-a5c2-912af589a18f"
      },
      "execution_count": null,
      "outputs": [
        {
          "output_type": "stream",
          "name": "stdout",
          "text": [
            "len(YaRk45) =  100\n"
          ]
        }
      ]
    },
    {
      "cell_type": "code",
      "source": [
        "# plot the results for comparaison\n",
        "import matplotlib.pyplot as plt\n",
        "\n",
        "plt.plot(Xrk45, Yrk45, label='yrk45(x)')\n",
        "plt.plot(X_scipy2, Y_scipy2, marker='o', label='Y_scipy2(x)')\n",
        "plt.plot(X_scipy2, YaRk45, marker='s', markersize=12, markerfacecolor='None', label='ya(x)')\n",
        "plt.legend(loc='best')\n",
        "plt.show()"
      ],
      "metadata": {
        "colab": {
          "base_uri": "https://localhost:8080/",
          "height": 265
        },
        "id": "JeiAtzRUwZJA",
        "outputId": "5438a3c7-c135-4d26-97ae-d91094ec30b1"
      },
      "execution_count": null,
      "outputs": [
        {
          "output_type": "display_data",
          "data": {
            "text/plain": [
              "<Figure size 432x288 with 1 Axes>"
            ],
            "image/png": "[encoded data removed]"
          },
          "metadata": {
            "needs_background": "light"
          }
        }
      ]
    }
  ]
}